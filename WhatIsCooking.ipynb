{
  "nbformat": 4,
  "nbformat_minor": 0,
  "metadata": {
    "kernelspec": {
      "display_name": "Python 3",
      "language": "python",
      "name": "python3"
    },
    "language_info": {
      "codemirror_mode": {
        "name": "ipython",
        "version": 3
      },
      "file_extension": ".py",
      "mimetype": "text/x-python",
      "name": "python",
      "nbconvert_exporter": "python",
      "pygments_lexer": "ipython3",
      "version": "3.7.3"
    },
    "colab": {
      "name": "WhatIsCooking.ipynb",
      "provenance": [],
      "collapsed_sections": [],
      "include_colab_link": true
    }
  },
  "cells": [
    {
      "cell_type": "markdown",
      "metadata": {
        "id": "view-in-github",
        "colab_type": "text"
      },
      "source": [
        "<a href=\"https://colab.research.google.com/github/FengYou97/DataScienceData/blob/master/WhatIsCooking.ipynb\" target=\"_parent\"><img src=\"https://colab.research.google.com/assets/colab-badge.svg\" alt=\"Open In Colab\"/></a>"
      ]
    },
    {
      "cell_type": "code",
      "metadata": {
        "id": "MLk4mzTITuQ2",
        "colab_type": "code",
        "colab": {}
      },
      "source": [
        "from google.colab import drive\n",
        "drive.mount('/content/drive')"
      ],
      "execution_count": 0,
      "outputs": []
    },
    {
      "cell_type": "code",
      "metadata": {
        "id": "9vBMXG9j_Rn_",
        "colab_type": "code",
        "colab": {}
      },
      "source": [
        "import pandas as pd\n",
        "df_train = pd.read_json('https://raw.githubusercontent.com/FengYou97/DataScienceData/master/train.json')\n",
        "df_test = pd.read_json('https://raw.githubusercontent.com/FengYou97/DataScienceData/master/test.json')\n",
        "#import data using pandas "
      ],
      "execution_count": 0,
      "outputs": []
    },
    {
      "cell_type": "code",
      "metadata": {
        "id": "yMohoxiC_RoQ",
        "colab_type": "code",
        "colab": {}
      },
      "source": [
        "%matplotlib inline\n",
        "\n",
        "import json\n",
        "import requests\n",
        "import numpy as np\n",
        "import matplotlib.pyplot as plt\n",
        "from pandas import DataFrame\n",
        "from sklearn.svm import LinearSVC\n",
        "from sklearn.linear_model import LogisticRegression\n",
        "from sklearn.multiclass import OneVsRestClassifier\n",
        "from sklearn.neighbors import KNeighborsClassifier\n",
        "from sklearn.tree import DecisionTreeClassifier\n",
        "from sklearn.ensemble import RandomForestClassifier\n",
        "from sklearn.feature_extraction.text import CountVectorizer\n",
        "from sklearn import metrics\n",
        "import seaborn as sns\n",
        "sns.set_context('talk')"
      ],
      "execution_count": 0,
      "outputs": []
    },
    {
      "cell_type": "code",
      "metadata": {
        "id": "Pf8Db766_RoU",
        "colab_type": "code",
        "outputId": "ad07c96b-4b0c-4f36-f354-e1f8dff6a11d",
        "colab": {
          "base_uri": "https://localhost:8080/",
          "height": 204
        }
      },
      "source": [
        "df_train.head()\n",
        "#example of how train data looks like"
      ],
      "execution_count": 0,
      "outputs": [
        {
          "output_type": "execute_result",
          "data": {
            "text/html": [
              "<div>\n",
              "<style scoped>\n",
              "    .dataframe tbody tr th:only-of-type {\n",
              "        vertical-align: middle;\n",
              "    }\n",
              "\n",
              "    .dataframe tbody tr th {\n",
              "        vertical-align: top;\n",
              "    }\n",
              "\n",
              "    .dataframe thead th {\n",
              "        text-align: right;\n",
              "    }\n",
              "</style>\n",
              "<table border=\"1\" class=\"dataframe\">\n",
              "  <thead>\n",
              "    <tr style=\"text-align: right;\">\n",
              "      <th></th>\n",
              "      <th>id</th>\n",
              "      <th>cuisine</th>\n",
              "      <th>ingredients</th>\n",
              "    </tr>\n",
              "  </thead>\n",
              "  <tbody>\n",
              "    <tr>\n",
              "      <th>0</th>\n",
              "      <td>10259</td>\n",
              "      <td>greek</td>\n",
              "      <td>[romaine lettuce, black olives, grape tomatoes...</td>\n",
              "    </tr>\n",
              "    <tr>\n",
              "      <th>1</th>\n",
              "      <td>25693</td>\n",
              "      <td>southern_us</td>\n",
              "      <td>[plain flour, ground pepper, salt, tomatoes, g...</td>\n",
              "    </tr>\n",
              "    <tr>\n",
              "      <th>2</th>\n",
              "      <td>20130</td>\n",
              "      <td>filipino</td>\n",
              "      <td>[eggs, pepper, salt, mayonaise, cooking oil, g...</td>\n",
              "    </tr>\n",
              "    <tr>\n",
              "      <th>3</th>\n",
              "      <td>22213</td>\n",
              "      <td>indian</td>\n",
              "      <td>[water, vegetable oil, wheat, salt]</td>\n",
              "    </tr>\n",
              "    <tr>\n",
              "      <th>4</th>\n",
              "      <td>13162</td>\n",
              "      <td>indian</td>\n",
              "      <td>[black pepper, shallots, cornflour, cayenne pe...</td>\n",
              "    </tr>\n",
              "  </tbody>\n",
              "</table>\n",
              "</div>"
            ],
            "text/plain": [
              "      id      cuisine                                        ingredients\n",
              "0  10259        greek  [romaine lettuce, black olives, grape tomatoes...\n",
              "1  25693  southern_us  [plain flour, ground pepper, salt, tomatoes, g...\n",
              "2  20130     filipino  [eggs, pepper, salt, mayonaise, cooking oil, g...\n",
              "3  22213       indian                [water, vegetable oil, wheat, salt]\n",
              "4  13162       indian  [black pepper, shallots, cornflour, cayenne pe..."
            ]
          },
          "metadata": {
            "tags": []
          },
          "execution_count": 75
        }
      ]
    },
    {
      "cell_type": "code",
      "metadata": {
        "id": "YZ34crcR_Roc",
        "colab_type": "code",
        "outputId": "3a9df648-88c0-48a4-9147-efbe441c065b",
        "colab": {
          "base_uri": "https://localhost:8080/",
          "height": 204
        }
      },
      "source": [
        "df_test.head()\n",
        "#display the sample of test data"
      ],
      "execution_count": 0,
      "outputs": [
        {
          "output_type": "execute_result",
          "data": {
            "text/html": [
              "<div>\n",
              "<style scoped>\n",
              "    .dataframe tbody tr th:only-of-type {\n",
              "        vertical-align: middle;\n",
              "    }\n",
              "\n",
              "    .dataframe tbody tr th {\n",
              "        vertical-align: top;\n",
              "    }\n",
              "\n",
              "    .dataframe thead th {\n",
              "        text-align: right;\n",
              "    }\n",
              "</style>\n",
              "<table border=\"1\" class=\"dataframe\">\n",
              "  <thead>\n",
              "    <tr style=\"text-align: right;\">\n",
              "      <th></th>\n",
              "      <th>id</th>\n",
              "      <th>ingredients</th>\n",
              "    </tr>\n",
              "  </thead>\n",
              "  <tbody>\n",
              "    <tr>\n",
              "      <th>0</th>\n",
              "      <td>18009</td>\n",
              "      <td>[baking powder, eggs, all-purpose flour, raisi...</td>\n",
              "    </tr>\n",
              "    <tr>\n",
              "      <th>1</th>\n",
              "      <td>28583</td>\n",
              "      <td>[sugar, egg yolks, corn starch, cream of tarta...</td>\n",
              "    </tr>\n",
              "    <tr>\n",
              "      <th>2</th>\n",
              "      <td>41580</td>\n",
              "      <td>[sausage links, fennel bulb, fronds, olive oil...</td>\n",
              "    </tr>\n",
              "    <tr>\n",
              "      <th>3</th>\n",
              "      <td>29752</td>\n",
              "      <td>[meat cuts, file powder, smoked sausage, okra,...</td>\n",
              "    </tr>\n",
              "    <tr>\n",
              "      <th>4</th>\n",
              "      <td>35687</td>\n",
              "      <td>[ground black pepper, salt, sausage casings, l...</td>\n",
              "    </tr>\n",
              "  </tbody>\n",
              "</table>\n",
              "</div>"
            ],
            "text/plain": [
              "      id                                        ingredients\n",
              "0  18009  [baking powder, eggs, all-purpose flour, raisi...\n",
              "1  28583  [sugar, egg yolks, corn starch, cream of tarta...\n",
              "2  41580  [sausage links, fennel bulb, fronds, olive oil...\n",
              "3  29752  [meat cuts, file powder, smoked sausage, okra,...\n",
              "4  35687  [ground black pepper, salt, sausage casings, l..."
            ]
          },
          "metadata": {
            "tags": []
          },
          "execution_count": 76
        }
      ]
    },
    {
      "cell_type": "code",
      "metadata": {
        "id": "87X9WKcM_Roi",
        "colab_type": "code",
        "colab": {}
      },
      "source": [
        "from collections import Counter\n",
        "counters = {}\n",
        "for cuisine in df_train['cuisine'].unique():\n",
        "    counters[cuisine] = Counter()\n",
        "    indices = (df_train['cuisine'] == cuisine)\n",
        "    for ingredients in df_train[indices]['ingredients']:\n",
        "        counters[cuisine].update(ingredients)\n",
        "#count ingredients in each unique cuisine\n",
        "#i.e. for all italian dishes, 1240 dishes used onions as an ingredient"
      ],
      "execution_count": 0,
      "outputs": []
    },
    {
      "cell_type": "code",
      "metadata": {
        "id": "BW61KbvD_Roo",
        "colab_type": "code",
        "outputId": "81ea17a3-f4a9-4c36-9f29-ed77c9f36320",
        "colab": {
          "base_uri": "https://localhost:8080/",
          "height": 34
        }
      },
      "source": [
        "df_train['all_ingredients'] = df_train['ingredients'].map(\";\".join)\n",
        "from sklearn.feature_extraction.text import CountVectorizer\n",
        "#We can conveniently tell the count vectorizer which features it should \n",
        "#accept and let him build the matrix with 1s and 0s when ingredients \n",
        "#are present in a single step as follows:\n",
        "\n",
        "cv = CountVectorizer()\n",
        "X = cv.fit_transform(df_train['all_ingredients'].values)\n",
        "#We can check the shape of that matrix:\n",
        "\n",
        "X.shape"
      ],
      "execution_count": 0,
      "outputs": [
        {
          "output_type": "execute_result",
          "data": {
            "text/plain": [
              "(39774, 3010)"
            ]
          },
          "metadata": {
            "tags": []
          },
          "execution_count": 78
        }
      ]
    },
    {
      "cell_type": "code",
      "metadata": {
        "id": "G23qrPix_Ros",
        "colab_type": "code",
        "outputId": "15af1702-ab00-4ea6-f368-a3e747116932",
        "colab": {
          "base_uri": "https://localhost:8080/",
          "height": 54
        }
      },
      "source": [
        "print(list(cv.vocabulary_.keys())[:120])"
      ],
      "execution_count": 0,
      "outputs": [
        {
          "output_type": "stream",
          "text": [
            "['romaine', 'lettuce', 'black', 'olives', 'grape', 'tomatoes', 'garlic', 'pepper', 'purple', 'onion', 'seasoning', 'garbanzo', 'beans', 'feta', 'cheese', 'crumbles', 'plain', 'flour', 'ground', 'salt', 'thyme', 'eggs', 'green', 'yellow', 'corn', 'meal', 'milk', 'vegetable', 'oil', 'mayonaise', 'cooking', 'chilies', 'grilled', 'chicken', 'breasts', 'powder', 'soy', 'sauce', 'butter', 'livers', 'water', 'wheat', 'shallots', 'cornflour', 'cayenne', 'onions', 'paste', 'lemon', 'juice', 'chili', 'passata', 'cumin', 'boneless', 'skinless', 'thigh', 'garam', 'masala', 'double', 'cream', 'natural', 'yogurt', 'bay', 'leaf', 'sugar', 'fresh', 'ginger', 'root', 'cinnamon', 'vanilla', 'extract', 'powdered', 'baking', 'olive', 'medium', 'shrimp', 'chopped', 'cilantro', 'jalapeno', 'flat', 'parsley', 'skirt', 'steak', 'white', 'vinegar', 'sea', 'chorizo', 'sausage', 'pistachio', 'nuts', 'almond', 'bark', 'dried', 'cranberries', 'pineapple', 'pork', 'poblano', 'peppers', 'tortillas', 'cheddar', 'iceberg', 'lime', 'basil', 'extra', 'virgin', 'kosher', 'pimentos', 'sweet', 'oregano', 'sharp', 'swiss', 'provolone', 'canola', 'mushrooms', 'sausages', 'low', 'sodium', 'dry', 'mustard', 'sesame', 'scallions']\n"
          ],
          "name": "stdout"
        }
      ]
    },
    {
      "cell_type": "code",
      "metadata": {
        "id": "mE5LZX6ISc4W",
        "colab_type": "code",
        "outputId": "1040cc45-84f6-4788-c85a-ed2485256fd2",
        "colab": {
          "base_uri": "https://localhost:8080/",
          "height": 644
        }
      },
      "source": [
        "f, ax = plt.subplots(figsize=(10,10))\n",
        "sns.countplot(y = 'cuisine', data = df_train, order = df_train.cuisine.value_counts(ascending=False).index)"
      ],
      "execution_count": 0,
      "outputs": [
        {
          "output_type": "execute_result",
          "data": {
            "text/plain": [
              "<matplotlib.axes._subplots.AxesSubplot at 0x7f97de0af2e8>"
            ]
          },
          "metadata": {
            "tags": []
          },
          "execution_count": 80
        },
        {
          "output_type": "display_data",
          "data": {
            "image/png": "[encoded data removed]",
            "text/plain": [
              "<Figure size 720x720 with 1 Axes>"
            ]
          },
          "metadata": {
            "tags": []
          }
        }
      ]
    },
    {
      "cell_type": "code",
      "metadata": {
        "id": "f6h3PbMp_Roy",
        "colab_type": "code",
        "colab": {}
      },
      "source": [
        "from sklearn.preprocessing import LabelEncoder\n",
        "enc = LabelEncoder()\n",
        "y = enc.fit_transform(df_train.cuisine)"
      ],
      "execution_count": 0,
      "outputs": []
    },
    {
      "cell_type": "code",
      "metadata": {
        "id": "KlT--lqv_RpC",
        "colab_type": "code",
        "outputId": "8559fbfb-3bb1-4b29-e7d3-65e1aa33f7a1",
        "colab": {
          "base_uri": "https://localhost:8080/",
          "height": 102
        }
      },
      "source": [
        "import warnings\n",
        "warnings.simplefilter(action='ignore', category=FutureWarning)\n",
        "\n",
        "\n",
        "from sklearn.model_selection import train_test_split\n",
        "\n",
        "X_train, X_test, y_train, y_test = train_test_split(X, y, test_size=0.2, random_state=1)\n",
        "\n",
        "from sklearn.linear_model import LogisticRegression\n",
        "logistic = LogisticRegression()\n",
        "logistic.fit(X_train, y_train)"
      ],
      "execution_count": 0,
      "outputs": [
        {
          "output_type": "execute_result",
          "data": {
            "text/plain": [
              "LogisticRegression(C=1.0, class_weight=None, dual=False, fit_intercept=True,\n",
              "                   intercept_scaling=1, l1_ratio=None, max_iter=100,\n",
              "                   multi_class='warn', n_jobs=None, penalty='l2',\n",
              "                   random_state=None, solver='warn', tol=0.0001, verbose=0,\n",
              "                   warm_start=False)"
            ]
          },
          "metadata": {
            "tags": []
          },
          "execution_count": 82
        }
      ]
    },
    {
      "cell_type": "code",
      "metadata": {
        "id": "sIdLgYzX_RpF",
        "colab_type": "code",
        "outputId": "ad4520b0-07a4-48ab-beae-1f885d2fedae",
        "colab": {
          "base_uri": "https://localhost:8080/",
          "height": 34
        }
      },
      "source": [
        "logistic.score(X_test, y_test)"
      ],
      "execution_count": 0,
      "outputs": [
        {
          "output_type": "execute_result",
          "data": {
            "text/plain": [
              "0.7874292897548711"
            ]
          },
          "metadata": {
            "tags": []
          },
          "execution_count": 83
        }
      ]
    },
    {
      "cell_type": "code",
      "metadata": {
        "id": "218vszHy_RpI",
        "colab_type": "code",
        "outputId": "89068af4-e84a-496e-ab60-d8b94d05190e",
        "colab": {
          "base_uri": "https://localhost:8080/",
          "height": 34
        }
      },
      "source": [
        "from sklearn.tree import DecisionTreeClassifier\n",
        "from sklearn.metrics import accuracy_score\n",
        "\n",
        "my_decisiontree = DecisionTreeClassifier(random_state=3)\n",
        "\n",
        "my_decisiontree.fit(X_train, y_train)\n",
        "y_predict_dt = my_decisiontree.predict(X_test)\n",
        "\n",
        "\n",
        "score_dt = accuracy_score(y_test, y_predict_dt)\n",
        "\n",
        "\n",
        "print(score_dt)"
      ],
      "execution_count": 0,
      "outputs": [
        {
          "output_type": "stream",
          "text": [
            "0.6380892520427404\n"
          ],
          "name": "stdout"
        }
      ]
    },
    {
      "cell_type": "code",
      "metadata": {
        "id": "N1diMQTRfdqU",
        "colab_type": "code",
        "outputId": "fc317910-12ad-4d25-cfef-11fd0e8d49c7",
        "colab": {
          "base_uri": "https://localhost:8080/",
          "height": 34
        }
      },
      "source": [
        "my_RandomForest = RandomForestClassifier(n_estimators = 30, bootstrap = True, random_state=2)\n",
        "\n",
        "my_RandomForest.fit(X_train,y_train)\n",
        "y_predict_randomt = my_RandomForest.predict(X_test)\n",
        "score_randomt = accuracy_score(y_test, y_predict_randomt)\n",
        "print(score_randomt)"
      ],
      "execution_count": 0,
      "outputs": [
        {
          "output_type": "stream",
          "text": [
            "0.7407919547454431\n"
          ],
          "name": "stdout"
        }
      ]
    },
    {
      "cell_type": "code",
      "metadata": {
        "id": "uRciU2lv_RpM",
        "colab_type": "code",
        "colab": {}
      },
      "source": [
        "import pandas as pd\n",
        "\n",
        "from sklearn import pipeline,ensemble,preprocessing,feature_extraction,metrics\n",
        "from sklearn.model_selection import train_test_split"
      ],
      "execution_count": 0,
      "outputs": []
    },
    {
      "cell_type": "code",
      "metadata": {
        "id": "2f0R2ibV_RpP",
        "colab_type": "code",
        "outputId": "b53330d8-bd99-4f2a-d46b-53f34c85680a",
        "colab": {
          "base_uri": "https://localhost:8080/",
          "height": 402
        }
      },
      "source": [
        "indices = df_train['all_ingredients'].str.contains('tomatoes')\n",
        "df_train[indices]['cuisine'].value_counts().plot(kind='bar',\n",
        "                                                 title='tomatoes as found per cuisine')\n",
        "#check frequency of individual ingredient "
      ],
      "execution_count": 0,
      "outputs": [
        {
          "output_type": "execute_result",
          "data": {
            "text/plain": [
              "<matplotlib.axes._subplots.AxesSubplot at 0x7f97dfddf8d0>"
            ]
          },
          "metadata": {
            "tags": []
          },
          "execution_count": 87
        },
        {
          "output_type": "display_data",
          "data": {
            "image/png": "[encoded data removed]",
            "text/plain": [
              "<Figure size 432x288 with 1 Axes>"
            ]
          },
          "metadata": {
            "tags": []
          }
        }
      ]
    },
    {
      "cell_type": "code",
      "metadata": {
        "id": "p7lKdhyb_RpS",
        "colab_type": "code",
        "colab": {}
      },
      "source": [
        "with open('/content/drive/My Drive/Colab Notebooks/train.json') as data_file:    \n",
        "  train_data = json.load(data_file)\n",
        "#read data file using json extension"
      ],
      "execution_count": 0,
      "outputs": []
    },
    {
      "cell_type": "code",
      "metadata": {
        "id": "O7rEspPG_RpV",
        "colab_type": "code",
        "outputId": "fb6acd94-9da6-4300-efe8-cb18a6f7e5f1",
        "colab": {
          "base_uri": "https://localhost:8080/",
          "height": 102
        }
      },
      "source": [
        "all_cuisines = []\n",
        "all_ingredients = []\n",
        "#count unique cusine and ingredients and input into list of array\n",
        "for recipe in train_data:\n",
        "    all_cuisines.append(recipe['cuisine'])\n",
        "    all_ingredients.extend(recipe['ingredients'])\n",
        "    \n",
        "all_cuisines = np.array(all_cuisines)\n",
        "all_ingredients = np.array(all_ingredients)\n",
        "\n",
        "unique_cuisines, cuisine_counts = np.unique(all_cuisines, return_counts=True)\n",
        "unique_ingredients, ingredient_counts = np.unique(all_ingredients, return_counts=True)\n",
        "\n",
        "print(unique_cuisines.size)\n",
        "unique_cuisines"
      ],
      "execution_count": 0,
      "outputs": [
        {
          "output_type": "stream",
          "text": [
            "20\n"
          ],
          "name": "stdout"
        },
        {
          "output_type": "execute_result",
          "data": {
            "text/plain": [
              "array(['brazilian', 'british', 'cajun_creole', 'chinese', 'filipino',\n",
              "       'french', 'greek', 'indian', 'irish', 'italian', 'jamaican',\n",
              "       'japanese', 'korean', 'mexican', 'moroccan', 'russian',\n",
              "       'southern_us', 'spanish', 'thai', 'vietnamese'], dtype='<U12')"
            ]
          },
          "metadata": {
            "tags": []
          },
          "execution_count": 89
        }
      ]
    },
    {
      "cell_type": "code",
      "metadata": {
        "id": "DTId1T-D_Rpa",
        "colab_type": "code",
        "outputId": "41c69ad9-a469-4303-ec37-0f811b5dc3e2",
        "colab": {
          "base_uri": "https://localhost:8080/",
          "height": 204
        }
      },
      "source": [
        "print(len(unique_ingredients))\n",
        "for i in range(10):\n",
        "    print(unique_ingredients[i])"
      ],
      "execution_count": 0,
      "outputs": [
        {
          "output_type": "stream",
          "text": [
            "6714\n",
            "(    oz.) tomato sauce\n",
            "(   oz.) tomato paste\n",
            "(10 oz.) frozen chopped spinach\n",
            "(10 oz.) frozen chopped spinach, thawed and squeezed dry\n",
            "(14 oz.) sweetened condensed milk\n",
            "(14.5 oz.) diced tomatoes\n",
            "(15 oz.) refried beans\n",
            "1% low-fat buttermilk\n",
            "1% low-fat chocolate milk\n",
            "1% low-fat cottage cheese\n"
          ],
          "name": "stdout"
        }
      ]
    },
    {
      "cell_type": "code",
      "metadata": {
        "id": "zjilOD1d_Rpg",
        "colab_type": "code",
        "outputId": "d1e626b2-2e71-44cf-c0ab-4aa0276cfeca",
        "colab": {
          "base_uri": "https://localhost:8080/",
          "height": 1000
        }
      },
      "source": [
        "#display 36 plot of select unique ingredients with frequency in each cuisine\n",
        "fig, axes = plt.subplots(6, 6, figsize=(20, 20))\n",
        "for unique_ingredients, ax_index in zip(unique_ingredients, range(6, 30)):\n",
        "    indices = df_train['all_ingredients'].str.contains(unique_ingredients)\n",
        "    relative_freq = (df_train[indices]['cuisine'].value_counts() / df_train['cuisine'].value_counts())\n",
        "    relative_freq.plot(kind='bar', ax=axes.ravel()[ax_index], fontsize=5, title=unique_ingredients)\n",
        "\n"
      ],
      "execution_count": 0,
      "outputs": [
        {
          "output_type": "stream",
          "text": [
            "/usr/local/lib/python3.6/dist-packages/pandas/core/strings.py:1843: UserWarning: This pattern has match groups. To actually get the groups, use str.extract.\n",
            "  return func(self, *args, **kwargs)\n"
          ],
          "name": "stderr"
        },
        {
          "output_type": "display_data",
          "data": {
            "image/png": "[encoded data removed]",
            "text/plain": [
              "<Figure size 1440x1440 with 36 Axes>"
            ]
          },
          "metadata": {
            "tags": []
          }
        }
      ]
    },
    {
      "cell_type": "code",
      "metadata": {
        "id": "Dd-RF-gv_Rpl",
        "colab_type": "code",
        "colab": {}
      },
      "source": [
        "\n",
        "top10 = pd.DataFrame([[items[0] for items in counters[cuisine].most_common(853)] for cuisine in counters],\n",
        "            index=[cuisine for cuisine in counters],\n",
        "            columns=['top{}'.format(i) for i in range(1, 854)])\n",
        "\n",
        "unique = np.unique(top10.values.ravel())\n",
        "\n"
      ],
      "execution_count": 0,
      "outputs": []
    },
    {
      "cell_type": "code",
      "metadata": {
        "id": "TiIbxCN__Rpp",
        "colab_type": "code",
        "outputId": "26693e43-b6eb-48a1-a975-9ecc2c253169",
        "colab": {
          "base_uri": "https://localhost:8080/",
          "height": 187
        }
      },
      "source": [
        "counters['italian'].most_common(10)"
      ],
      "execution_count": 0,
      "outputs": [
        {
          "output_type": "execute_result",
          "data": {
            "text/plain": [
              "[('salt', 3454),\n",
              " ('olive oil', 3111),\n",
              " ('garlic cloves', 1619),\n",
              " ('grated parmesan cheese', 1580),\n",
              " ('garlic', 1471),\n",
              " ('ground black pepper', 1444),\n",
              " ('extra-virgin olive oil', 1362),\n",
              " ('onions', 1240),\n",
              " ('water', 1052),\n",
              " ('butter', 1030)]"
            ]
          },
          "metadata": {
            "tags": []
          },
          "execution_count": 93
        }
      ]
    },
    {
      "cell_type": "code",
      "metadata": {
        "id": "unPeruv1_Rpu",
        "colab_type": "code",
        "outputId": "ace399c3-d975-4a3c-b60f-33c4205a6338",
        "colab": {
          "base_uri": "https://localhost:8080/",
          "height": 1000
        }
      },
      "source": [
        "top10 = pd.DataFrame([[items[0] for items in counters[cuisine].most_common(10)] for cuisine in counters],\n",
        "            index=[cuisine for cuisine in counters],\n",
        "            columns=['top{}'.format(i) for i in range(1, 11)])\n",
        "top10"
      ],
      "execution_count": 0,
      "outputs": [
        {
          "output_type": "execute_result",
          "data": {
            "text/html": [
              "<div>\n",
              "<style scoped>\n",
              "    .dataframe tbody tr th:only-of-type {\n",
              "        vertical-align: middle;\n",
              "    }\n",
              "\n",
              "    .dataframe tbody tr th {\n",
              "        vertical-align: top;\n",
              "    }\n",
              "\n",
              "    .dataframe thead th {\n",
              "        text-align: right;\n",
              "    }\n",
              "</style>\n",
              "<table border=\"1\" class=\"dataframe\">\n",
              "  <thead>\n",
              "    <tr style=\"text-align: right;\">\n",
              "      <th></th>\n",
              "      <th>top1</th>\n",
              "      <th>top2</th>\n",
              "      <th>top3</th>\n",
              "      <th>top4</th>\n",
              "      <th>top5</th>\n",
              "      <th>top6</th>\n",
              "      <th>top7</th>\n",
              "      <th>top8</th>\n",
              "      <th>top9</th>\n",
              "      <th>top10</th>\n",
              "    </tr>\n",
              "  </thead>\n",
              "  <tbody>\n",
              "    <tr>\n",
              "      <th>greek</th>\n",
              "      <td>salt</td>\n",
              "      <td>olive oil</td>\n",
              "      <td>dried oregano</td>\n",
              "      <td>garlic cloves</td>\n",
              "      <td>feta cheese crumbles</td>\n",
              "      <td>extra-virgin olive oil</td>\n",
              "      <td>fresh lemon juice</td>\n",
              "      <td>ground black pepper</td>\n",
              "      <td>garlic</td>\n",
              "      <td>pepper</td>\n",
              "    </tr>\n",
              "    <tr>\n",
              "      <th>southern_us</th>\n",
              "      <td>salt</td>\n",
              "      <td>butter</td>\n",
              "      <td>all-purpose flour</td>\n",
              "      <td>sugar</td>\n",
              "      <td>large eggs</td>\n",
              "      <td>baking powder</td>\n",
              "      <td>water</td>\n",
              "      <td>unsalted butter</td>\n",
              "      <td>milk</td>\n",
              "      <td>buttermilk</td>\n",
              "    </tr>\n",
              "    <tr>\n",
              "      <th>filipino</th>\n",
              "      <td>salt</td>\n",
              "      <td>garlic</td>\n",
              "      <td>water</td>\n",
              "      <td>onions</td>\n",
              "      <td>soy sauce</td>\n",
              "      <td>pepper</td>\n",
              "      <td>oil</td>\n",
              "      <td>sugar</td>\n",
              "      <td>carrots</td>\n",
              "      <td>ground black pepper</td>\n",
              "    </tr>\n",
              "    <tr>\n",
              "      <th>indian</th>\n",
              "      <td>salt</td>\n",
              "      <td>onions</td>\n",
              "      <td>garam masala</td>\n",
              "      <td>water</td>\n",
              "      <td>ground turmeric</td>\n",
              "      <td>garlic</td>\n",
              "      <td>cumin seed</td>\n",
              "      <td>ground cumin</td>\n",
              "      <td>vegetable oil</td>\n",
              "      <td>oil</td>\n",
              "    </tr>\n",
              "    <tr>\n",
              "      <th>jamaican</th>\n",
              "      <td>salt</td>\n",
              "      <td>onions</td>\n",
              "      <td>water</td>\n",
              "      <td>garlic</td>\n",
              "      <td>ground allspice</td>\n",
              "      <td>pepper</td>\n",
              "      <td>scallions</td>\n",
              "      <td>dried thyme</td>\n",
              "      <td>black pepper</td>\n",
              "      <td>garlic cloves</td>\n",
              "    </tr>\n",
              "    <tr>\n",
              "      <th>spanish</th>\n",
              "      <td>salt</td>\n",
              "      <td>olive oil</td>\n",
              "      <td>garlic cloves</td>\n",
              "      <td>extra-virgin olive oil</td>\n",
              "      <td>onions</td>\n",
              "      <td>water</td>\n",
              "      <td>tomatoes</td>\n",
              "      <td>ground black pepper</td>\n",
              "      <td>red bell pepper</td>\n",
              "      <td>pepper</td>\n",
              "    </tr>\n",
              "    <tr>\n",
              "      <th>italian</th>\n",
              "      <td>salt</td>\n",
              "      <td>olive oil</td>\n",
              "      <td>garlic cloves</td>\n",
              "      <td>grated parmesan cheese</td>\n",
              "      <td>garlic</td>\n",
              "      <td>ground black pepper</td>\n",
              "      <td>extra-virgin olive oil</td>\n",
              "      <td>onions</td>\n",
              "      <td>water</td>\n",
              "      <td>butter</td>\n",
              "    </tr>\n",
              "    <tr>\n",
              "      <th>mexican</th>\n",
              "      <td>salt</td>\n",
              "      <td>onions</td>\n",
              "      <td>ground cumin</td>\n",
              "      <td>garlic</td>\n",
              "      <td>olive oil</td>\n",
              "      <td>chili powder</td>\n",
              "      <td>jalapeno chilies</td>\n",
              "      <td>sour cream</td>\n",
              "      <td>avocado</td>\n",
              "      <td>corn tortillas</td>\n",
              "    </tr>\n",
              "    <tr>\n",
              "      <th>chinese</th>\n",
              "      <td>soy sauce</td>\n",
              "      <td>sesame oil</td>\n",
              "      <td>salt</td>\n",
              "      <td>corn starch</td>\n",
              "      <td>sugar</td>\n",
              "      <td>garlic</td>\n",
              "      <td>water</td>\n",
              "      <td>green onions</td>\n",
              "      <td>vegetable oil</td>\n",
              "      <td>scallions</td>\n",
              "    </tr>\n",
              "    <tr>\n",
              "      <th>british</th>\n",
              "      <td>salt</td>\n",
              "      <td>all-purpose flour</td>\n",
              "      <td>butter</td>\n",
              "      <td>milk</td>\n",
              "      <td>eggs</td>\n",
              "      <td>unsalted butter</td>\n",
              "      <td>sugar</td>\n",
              "      <td>onions</td>\n",
              "      <td>baking powder</td>\n",
              "      <td>large eggs</td>\n",
              "    </tr>\n",
              "    <tr>\n",
              "      <th>thai</th>\n",
              "      <td>fish sauce</td>\n",
              "      <td>garlic</td>\n",
              "      <td>salt</td>\n",
              "      <td>coconut milk</td>\n",
              "      <td>vegetable oil</td>\n",
              "      <td>soy sauce</td>\n",
              "      <td>sugar</td>\n",
              "      <td>water</td>\n",
              "      <td>garlic cloves</td>\n",
              "      <td>fresh lime juice</td>\n",
              "    </tr>\n",
              "    <tr>\n",
              "      <th>vietnamese</th>\n",
              "      <td>fish sauce</td>\n",
              "      <td>sugar</td>\n",
              "      <td>salt</td>\n",
              "      <td>garlic</td>\n",
              "      <td>water</td>\n",
              "      <td>carrots</td>\n",
              "      <td>soy sauce</td>\n",
              "      <td>shallots</td>\n",
              "      <td>garlic cloves</td>\n",
              "      <td>vegetable oil</td>\n",
              "    </tr>\n",
              "    <tr>\n",
              "      <th>cajun_creole</th>\n",
              "      <td>salt</td>\n",
              "      <td>onions</td>\n",
              "      <td>garlic</td>\n",
              "      <td>green bell pepper</td>\n",
              "      <td>butter</td>\n",
              "      <td>olive oil</td>\n",
              "      <td>cayenne pepper</td>\n",
              "      <td>cajun seasoning</td>\n",
              "      <td>all-purpose flour</td>\n",
              "      <td>water</td>\n",
              "    </tr>\n",
              "    <tr>\n",
              "      <th>brazilian</th>\n",
              "      <td>salt</td>\n",
              "      <td>onions</td>\n",
              "      <td>olive oil</td>\n",
              "      <td>lime</td>\n",
              "      <td>water</td>\n",
              "      <td>garlic cloves</td>\n",
              "      <td>garlic</td>\n",
              "      <td>cachaca</td>\n",
              "      <td>sugar</td>\n",
              "      <td>tomatoes</td>\n",
              "    </tr>\n",
              "    <tr>\n",
              "      <th>french</th>\n",
              "      <td>salt</td>\n",
              "      <td>sugar</td>\n",
              "      <td>all-purpose flour</td>\n",
              "      <td>unsalted butter</td>\n",
              "      <td>olive oil</td>\n",
              "      <td>butter</td>\n",
              "      <td>water</td>\n",
              "      <td>large eggs</td>\n",
              "      <td>garlic cloves</td>\n",
              "      <td>ground black pepper</td>\n",
              "    </tr>\n",
              "    <tr>\n",
              "      <th>japanese</th>\n",
              "      <td>soy sauce</td>\n",
              "      <td>salt</td>\n",
              "      <td>mirin</td>\n",
              "      <td>sugar</td>\n",
              "      <td>water</td>\n",
              "      <td>sake</td>\n",
              "      <td>rice vinegar</td>\n",
              "      <td>vegetable oil</td>\n",
              "      <td>scallions</td>\n",
              "      <td>ginger</td>\n",
              "    </tr>\n",
              "    <tr>\n",
              "      <th>irish</th>\n",
              "      <td>salt</td>\n",
              "      <td>all-purpose flour</td>\n",
              "      <td>butter</td>\n",
              "      <td>onions</td>\n",
              "      <td>sugar</td>\n",
              "      <td>potatoes</td>\n",
              "      <td>baking soda</td>\n",
              "      <td>baking powder</td>\n",
              "      <td>milk</td>\n",
              "      <td>carrots</td>\n",
              "    </tr>\n",
              "    <tr>\n",
              "      <th>korean</th>\n",
              "      <td>soy sauce</td>\n",
              "      <td>sesame oil</td>\n",
              "      <td>garlic</td>\n",
              "      <td>green onions</td>\n",
              "      <td>sugar</td>\n",
              "      <td>salt</td>\n",
              "      <td>water</td>\n",
              "      <td>sesame seeds</td>\n",
              "      <td>onions</td>\n",
              "      <td>scallions</td>\n",
              "    </tr>\n",
              "    <tr>\n",
              "      <th>moroccan</th>\n",
              "      <td>salt</td>\n",
              "      <td>olive oil</td>\n",
              "      <td>ground cumin</td>\n",
              "      <td>onions</td>\n",
              "      <td>ground cinnamon</td>\n",
              "      <td>garlic cloves</td>\n",
              "      <td>water</td>\n",
              "      <td>ground ginger</td>\n",
              "      <td>carrots</td>\n",
              "      <td>paprika</td>\n",
              "    </tr>\n",
              "    <tr>\n",
              "      <th>russian</th>\n",
              "      <td>salt</td>\n",
              "      <td>sugar</td>\n",
              "      <td>onions</td>\n",
              "      <td>all-purpose flour</td>\n",
              "      <td>sour cream</td>\n",
              "      <td>eggs</td>\n",
              "      <td>water</td>\n",
              "      <td>butter</td>\n",
              "      <td>unsalted butter</td>\n",
              "      <td>large eggs</td>\n",
              "    </tr>\n",
              "  </tbody>\n",
              "</table>\n",
              "</div>"
            ],
            "text/plain": [
              "                    top1  ...                top10\n",
              "greek               salt  ...               pepper\n",
              "southern_us         salt  ...           buttermilk\n",
              "filipino            salt  ...  ground black pepper\n",
              "indian              salt  ...                  oil\n",
              "jamaican            salt  ...        garlic cloves\n",
              "spanish             salt  ...               pepper\n",
              "italian             salt  ...               butter\n",
              "mexican             salt  ...       corn tortillas\n",
              "chinese        soy sauce  ...            scallions\n",
              "british             salt  ...           large eggs\n",
              "thai          fish sauce  ...     fresh lime juice\n",
              "vietnamese    fish sauce  ...        vegetable oil\n",
              "cajun_creole        salt  ...                water\n",
              "brazilian           salt  ...             tomatoes\n",
              "french              salt  ...  ground black pepper\n",
              "japanese       soy sauce  ...               ginger\n",
              "irish               salt  ...              carrots\n",
              "korean         soy sauce  ...            scallions\n",
              "moroccan            salt  ...              paprika\n",
              "russian             salt  ...           large eggs\n",
              "\n",
              "[20 rows x 10 columns]"
            ]
          },
          "metadata": {
            "tags": []
          },
          "execution_count": 94
        }
      ]
    },
    {
      "cell_type": "code",
      "metadata": {
        "id": "_Dp6rF--_Rpz",
        "colab_type": "code",
        "outputId": "47372da3-c8a7-48ee-f5d1-8ffe517ae5be",
        "colab": {
          "base_uri": "https://localhost:8080/",
          "height": 34
        }
      },
      "source": [
        "df_test['all_ingredients'] = df_test['ingredients'].map(\";\".join)\n",
        "from sklearn.feature_extraction.text import CountVectorizer\n",
        "#We can conveniently tell the count vectorizer which features it should accept and let him build the matrix with 1s and 0s when ingredients are present in a single step as follows:\n",
        "\n",
        "test_cv = CountVectorizer()\n",
        "test_X = cv.transform(df_test['all_ingredients'].values)\n",
        "#We can check the shape of that matrix:\n",
        "\n",
        "test_X.shape"
      ],
      "execution_count": 0,
      "outputs": [
        {
          "output_type": "execute_result",
          "data": {
            "text/plain": [
              "(9944, 3010)"
            ]
          },
          "metadata": {
            "tags": []
          },
          "execution_count": 95
        }
      ]
    },
    {
      "cell_type": "code",
      "metadata": {
        "id": "MEVFLK3eZ8aE",
        "colab_type": "code",
        "outputId": "aced4e81-8290-4366-dec3-8313bae5714e",
        "colab": {
          "base_uri": "https://localhost:8080/",
          "height": 54
        }
      },
      "source": [
        "print(list(cv.vocabulary_.keys())[:120])"
      ],
      "execution_count": 0,
      "outputs": [
        {
          "output_type": "stream",
          "text": [
            "['romaine', 'lettuce', 'black', 'olives', 'grape', 'tomatoes', 'garlic', 'pepper', 'purple', 'onion', 'seasoning', 'garbanzo', 'beans', 'feta', 'cheese', 'crumbles', 'plain', 'flour', 'ground', 'salt', 'thyme', 'eggs', 'green', 'yellow', 'corn', 'meal', 'milk', 'vegetable', 'oil', 'mayonaise', 'cooking', 'chilies', 'grilled', 'chicken', 'breasts', 'powder', 'soy', 'sauce', 'butter', 'livers', 'water', 'wheat', 'shallots', 'cornflour', 'cayenne', 'onions', 'paste', 'lemon', 'juice', 'chili', 'passata', 'cumin', 'boneless', 'skinless', 'thigh', 'garam', 'masala', 'double', 'cream', 'natural', 'yogurt', 'bay', 'leaf', 'sugar', 'fresh', 'ginger', 'root', 'cinnamon', 'vanilla', 'extract', 'powdered', 'baking', 'olive', 'medium', 'shrimp', 'chopped', 'cilantro', 'jalapeno', 'flat', 'parsley', 'skirt', 'steak', 'white', 'vinegar', 'sea', 'chorizo', 'sausage', 'pistachio', 'nuts', 'almond', 'bark', 'dried', 'cranberries', 'pineapple', 'pork', 'poblano', 'peppers', 'tortillas', 'cheddar', 'iceberg', 'lime', 'basil', 'extra', 'virgin', 'kosher', 'pimentos', 'sweet', 'oregano', 'sharp', 'swiss', 'provolone', 'canola', 'mushrooms', 'sausages', 'low', 'sodium', 'dry', 'mustard', 'sesame', 'scallions']\n"
          ],
          "name": "stdout"
        }
      ]
    },
    {
      "cell_type": "code",
      "metadata": {
        "id": "9klt8Zlx_Rp5",
        "colab_type": "code",
        "outputId": "fe76fa04-4a35-4cd3-ae96-964d85f2ae3a",
        "colab": {
          "base_uri": "https://localhost:8080/",
          "height": 34
        }
      },
      "source": [
        "\n",
        "y_predict_test = logistic.predict(test_X)\n",
        "\n",
        "\n",
        "print(y_predict_test)\n",
        "#y_predict_test.head()\n",
        "#y_predict_test.shape"
      ],
      "execution_count": 0,
      "outputs": [
        {
          "output_type": "stream",
          "text": [
            "[ 1 16  9 ...  9 16 13]\n"
          ],
          "name": "stdout"
        }
      ]
    },
    {
      "cell_type": "code",
      "metadata": {
        "id": "IjBkdrfH_RqA",
        "colab_type": "code",
        "colab": {}
      },
      "source": [
        ""
      ],
      "execution_count": 0,
      "outputs": []
    },
    {
      "cell_type": "code",
      "metadata": {
        "id": "-ke5zOcS_RqC",
        "colab_type": "code",
        "colab": {}
      },
      "source": [
        ""
      ],
      "execution_count": 0,
      "outputs": []
    },
    {
      "cell_type": "code",
      "metadata": {
        "id": "AjK0JoAzkLgX",
        "colab_type": "code",
        "colab": {}
      },
      "source": [
        ""
      ],
      "execution_count": 0,
      "outputs": []
    },
    {
      "cell_type": "code",
      "metadata": {
        "id": "Hha-hdw0kLe_",
        "colab_type": "code",
        "colab": {}
      },
      "source": [
        ""
      ],
      "execution_count": 0,
      "outputs": []
    },
    {
      "cell_type": "code",
      "metadata": {
        "id": "S9AzZXtmkLca",
        "colab_type": "code",
        "colab": {}
      },
      "source": [
        ""
      ],
      "execution_count": 0,
      "outputs": []
    }
  ]
}